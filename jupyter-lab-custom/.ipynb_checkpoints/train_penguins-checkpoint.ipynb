{
 "cells": [
  {
   "cell_type": "markdown",
   "metadata": {},
   "source": [
    "### Entrenamiento de Modelos de Machine Learning"
   ]
  },
  {
   "cell_type": "markdown",
   "metadata": {},
   "source": [
    "#### 1. Importación de librerías"
   ]
  },
  {
   "cell_type": "code",
   "execution_count": 1,
   "metadata": {},
   "outputs": [],
   "source": [
    "import pandas as pd\n",
    "import numpy as np\n",
    "\n",
    "from sklearn.model_selection import train_test_split\n",
    "from sklearn.preprocessing import OneHotEncoder, StandardScaler\n",
    "from sklearn.compose import ColumnTransformer\n",
    "from sklearn.pipeline import Pipeline\n",
    "from sklearn.ensemble import RandomForestClassifier\n",
    "from sklearn.linear_model import LogisticRegression\n",
    "from sklearn.svm import SVC\n",
    "from sklearn.metrics import classification_report, accuracy_score\n",
    "import joblib\n"
   ]
  },
  {
   "cell_type": "markdown",
   "metadata": {},
   "source": [
    "#### 2. Lectura de los datos\n",
    "leemos los dos archivos CSV proporcionados:\n",
    "- `penguins_lter.csv`\n",
    "- `penguins_size.csv`"
   ]
  },
  {
   "cell_type": "code",
   "execution_count": 2,
   "metadata": {},
   "outputs": [
    {
     "name": "stdout",
     "output_type": "stream",
     "text": [
      "Dimensiones df_lter: (344, 17)\n",
      "Columnas df_lter: ['studyName', 'Sample Number', 'Species', 'Region', 'Island', 'Stage', 'Individual ID', 'Clutch Completion', 'Date Egg', 'Culmen Length (mm)', 'Culmen Depth (mm)', 'Flipper Length (mm)', 'Body Mass (g)', 'Sex', 'Delta 15 N (o/oo)', 'Delta 13 C (o/oo)', 'Comments'] \n",
      "\n",
      "Dimensiones df_size: (344, 7)\n",
      "Columnas df_size: ['species', 'island', 'culmen_length_mm', 'culmen_depth_mm', 'flipper_length_mm', 'body_mass_g', 'sex'] \n",
      "\n"
     ]
    }
   ],
   "source": [
    "df_lter = pd.read_csv('data/penguins_lter.csv')\n",
    "df_size = pd.read_csv('data/penguins_size.csv')\n",
    "\n",
    "print(\"Dimensiones df_lter:\", df_lter.shape)\n",
    "print(\"Columnas df_lter:\", df_lter.columns.tolist(), \"\\n\")\n",
    "\n",
    "print(\"Dimensiones df_size:\", df_size.shape)\n",
    "print(\"Columnas df_size:\", df_size.columns.tolist(), \"\\n\")"
   ]
  },
  {
   "cell_type": "markdown",
   "metadata": {},
   "source": [
    "#### 3. Exploración y Análisis Inicial (EDA)"
   ]
  },
  {
   "cell_type": "code",
   "execution_count": 3,
   "metadata": {},
   "outputs": [
    {
     "name": "stdout",
     "output_type": "stream",
     "text": [
      "<class 'pandas.core.frame.DataFrame'>\n",
      "RangeIndex: 344 entries, 0 to 343\n",
      "Data columns (total 7 columns):\n",
      " #   Column             Non-Null Count  Dtype  \n",
      "---  ------             --------------  -----  \n",
      " 0   species            344 non-null    object \n",
      " 1   island             344 non-null    object \n",
      " 2   culmen_length_mm   342 non-null    float64\n",
      " 3   culmen_depth_mm    342 non-null    float64\n",
      " 4   flipper_length_mm  342 non-null    float64\n",
      " 5   body_mass_g        342 non-null    float64\n",
      " 6   sex                334 non-null    object \n",
      "dtypes: float64(4), object(3)\n",
      "memory usage: 18.9+ KB\n",
      "\n",
      "Valores nulos en df_size:\n",
      " species               0\n",
      "island                0\n",
      "culmen_length_mm      2\n",
      "culmen_depth_mm       2\n",
      "flipper_length_mm     2\n",
      "body_mass_g           2\n",
      "sex                  10\n",
      "dtype: int64\n"
     ]
    },
    {
     "data": {
      "text/html": [
       "<div>\n",
       "<style scoped>\n",
       "    .dataframe tbody tr th:only-of-type {\n",
       "        vertical-align: middle;\n",
       "    }\n",
       "\n",
       "    .dataframe tbody tr th {\n",
       "        vertical-align: top;\n",
       "    }\n",
       "\n",
       "    .dataframe thead th {\n",
       "        text-align: right;\n",
       "    }\n",
       "</style>\n",
       "<table border=\"1\" class=\"dataframe\">\n",
       "  <thead>\n",
       "    <tr style=\"text-align: right;\">\n",
       "      <th></th>\n",
       "      <th>species</th>\n",
       "      <th>island</th>\n",
       "      <th>culmen_length_mm</th>\n",
       "      <th>culmen_depth_mm</th>\n",
       "      <th>flipper_length_mm</th>\n",
       "      <th>body_mass_g</th>\n",
       "      <th>sex</th>\n",
       "    </tr>\n",
       "  </thead>\n",
       "  <tbody>\n",
       "    <tr>\n",
       "      <th>0</th>\n",
       "      <td>Adelie</td>\n",
       "      <td>Torgersen</td>\n",
       "      <td>39.1</td>\n",
       "      <td>18.7</td>\n",
       "      <td>181.0</td>\n",
       "      <td>3750.0</td>\n",
       "      <td>MALE</td>\n",
       "    </tr>\n",
       "    <tr>\n",
       "      <th>1</th>\n",
       "      <td>Adelie</td>\n",
       "      <td>Torgersen</td>\n",
       "      <td>39.5</td>\n",
       "      <td>17.4</td>\n",
       "      <td>186.0</td>\n",
       "      <td>3800.0</td>\n",
       "      <td>FEMALE</td>\n",
       "    </tr>\n",
       "    <tr>\n",
       "      <th>2</th>\n",
       "      <td>Adelie</td>\n",
       "      <td>Torgersen</td>\n",
       "      <td>40.3</td>\n",
       "      <td>18.0</td>\n",
       "      <td>195.0</td>\n",
       "      <td>3250.0</td>\n",
       "      <td>FEMALE</td>\n",
       "    </tr>\n",
       "  </tbody>\n",
       "</table>\n",
       "</div>"
      ],
      "text/plain": [
       "  species     island  culmen_length_mm  culmen_depth_mm  flipper_length_mm  \\\n",
       "0  Adelie  Torgersen              39.1             18.7              181.0   \n",
       "1  Adelie  Torgersen              39.5             17.4              186.0   \n",
       "2  Adelie  Torgersen              40.3             18.0              195.0   \n",
       "\n",
       "   body_mass_g     sex  \n",
       "0       3750.0    MALE  \n",
       "1       3800.0  FEMALE  \n",
       "2       3250.0  FEMALE  "
      ]
     },
     "execution_count": 3,
     "metadata": {},
     "output_type": "execute_result"
    }
   ],
   "source": [
    "# Información del dataframe df_size\n",
    "df_size.info()\n",
    "print(\"\\nValores nulos en df_size:\\n\", df_size.isnull().sum())\n",
    "df_size.head(3)\n"
   ]
  },
  {
   "cell_type": "code",
   "execution_count": 4,
   "metadata": {},
   "outputs": [
    {
     "name": "stdout",
     "output_type": "stream",
     "text": [
      "Distribución 'island':\n",
      " island\n",
      "Biscoe       168\n",
      "Dream        124\n",
      "Torgersen     52\n",
      "Name: count, dtype: int64 \n",
      "\n",
      "Distribución 'sex':\n",
      " sex\n",
      "MALE      168\n",
      "FEMALE    165\n",
      "NaN        10\n",
      ".           1\n",
      "Name: count, dtype: int64 \n",
      "\n"
     ]
    }
   ],
   "source": [
    "print(\"Distribución 'island':\\n\", df_size['island'].value_counts(), \"\\n\")\n",
    "print(\"Distribución 'sex':\\n\", df_size['sex'].value_counts(dropna=False), \"\\n\")"
   ]
  },
  {
   "cell_type": "code",
   "execution_count": 5,
   "metadata": {},
   "outputs": [
    {
     "name": "stdout",
     "output_type": "stream",
     "text": [
      "<class 'pandas.core.frame.DataFrame'>\n",
      "RangeIndex: 344 entries, 0 to 343\n",
      "Data columns (total 17 columns):\n",
      " #   Column               Non-Null Count  Dtype  \n",
      "---  ------               --------------  -----  \n",
      " 0   studyName            344 non-null    object \n",
      " 1   Sample Number        344 non-null    int64  \n",
      " 2   Species              344 non-null    object \n",
      " 3   Region               344 non-null    object \n",
      " 4   Island               344 non-null    object \n",
      " 5   Stage                344 non-null    object \n",
      " 6   Individual ID        344 non-null    object \n",
      " 7   Clutch Completion    344 non-null    object \n",
      " 8   Date Egg             344 non-null    object \n",
      " 9   Culmen Length (mm)   342 non-null    float64\n",
      " 10  Culmen Depth (mm)    342 non-null    float64\n",
      " 11  Flipper Length (mm)  342 non-null    float64\n",
      " 12  Body Mass (g)        342 non-null    float64\n",
      " 13  Sex                  334 non-null    object \n",
      " 14  Delta 15 N (o/oo)    330 non-null    float64\n",
      " 15  Delta 13 C (o/oo)    331 non-null    float64\n",
      " 16  Comments             26 non-null     object \n",
      "dtypes: float64(6), int64(1), object(10)\n",
      "memory usage: 45.8+ KB\n",
      "\n",
      "Valores nulos en df_lter:\n",
      " studyName                0\n",
      "Sample Number            0\n",
      "Species                  0\n",
      "Region                   0\n",
      "Island                   0\n",
      "Stage                    0\n",
      "Individual ID            0\n",
      "Clutch Completion        0\n",
      "Date Egg                 0\n",
      "Culmen Length (mm)       2\n",
      "Culmen Depth (mm)        2\n",
      "Flipper Length (mm)      2\n",
      "Body Mass (g)            2\n",
      "Sex                     10\n",
      "Delta 15 N (o/oo)       14\n",
      "Delta 13 C (o/oo)       13\n",
      "Comments               318\n",
      "dtype: int64\n"
     ]
    },
    {
     "data": {
      "text/html": [
       "<div>\n",
       "<style scoped>\n",
       "    .dataframe tbody tr th:only-of-type {\n",
       "        vertical-align: middle;\n",
       "    }\n",
       "\n",
       "    .dataframe tbody tr th {\n",
       "        vertical-align: top;\n",
       "    }\n",
       "\n",
       "    .dataframe thead th {\n",
       "        text-align: right;\n",
       "    }\n",
       "</style>\n",
       "<table border=\"1\" class=\"dataframe\">\n",
       "  <thead>\n",
       "    <tr style=\"text-align: right;\">\n",
       "      <th></th>\n",
       "      <th>species</th>\n",
       "      <th>island</th>\n",
       "      <th>culmen_length_mm</th>\n",
       "      <th>culmen_depth_mm</th>\n",
       "      <th>flipper_length_mm</th>\n",
       "      <th>body_mass_g</th>\n",
       "      <th>sex</th>\n",
       "    </tr>\n",
       "  </thead>\n",
       "  <tbody>\n",
       "    <tr>\n",
       "      <th>0</th>\n",
       "      <td>Adelie</td>\n",
       "      <td>Torgersen</td>\n",
       "      <td>39.1</td>\n",
       "      <td>18.7</td>\n",
       "      <td>181.0</td>\n",
       "      <td>3750.0</td>\n",
       "      <td>MALE</td>\n",
       "    </tr>\n",
       "    <tr>\n",
       "      <th>1</th>\n",
       "      <td>Adelie</td>\n",
       "      <td>Torgersen</td>\n",
       "      <td>39.5</td>\n",
       "      <td>17.4</td>\n",
       "      <td>186.0</td>\n",
       "      <td>3800.0</td>\n",
       "      <td>FEMALE</td>\n",
       "    </tr>\n",
       "    <tr>\n",
       "      <th>2</th>\n",
       "      <td>Adelie</td>\n",
       "      <td>Torgersen</td>\n",
       "      <td>40.3</td>\n",
       "      <td>18.0</td>\n",
       "      <td>195.0</td>\n",
       "      <td>3250.0</td>\n",
       "      <td>FEMALE</td>\n",
       "    </tr>\n",
       "  </tbody>\n",
       "</table>\n",
       "</div>"
      ],
      "text/plain": [
       "  species     island  culmen_length_mm  culmen_depth_mm  flipper_length_mm  \\\n",
       "0  Adelie  Torgersen              39.1             18.7              181.0   \n",
       "1  Adelie  Torgersen              39.5             17.4              186.0   \n",
       "2  Adelie  Torgersen              40.3             18.0              195.0   \n",
       "\n",
       "   body_mass_g     sex  \n",
       "0       3750.0    MALE  \n",
       "1       3800.0  FEMALE  \n",
       "2       3250.0  FEMALE  "
      ]
     },
     "execution_count": 5,
     "metadata": {},
     "output_type": "execute_result"
    }
   ],
   "source": [
    "# Información del dataframe df_lter\n",
    "df_lter.info()\n",
    "print(\"\\nValores nulos en df_lter:\\n\", df_lter.isnull().sum())\n",
    "df_size.head(3)"
   ]
  },
  {
   "cell_type": "markdown",
   "metadata": {},
   "source": [
    "#### 4. Selección del dataframe y Limpieza de Datos\n",
    "\n",
    "Tras inspeccionar ambos conjuntos de datos, podemos observar lo siguiente:\n",
    "\n",
    "1. **`df_size` es más condensado y limpio**: contiene solo las columnas esenciales para el análisis (especie, isla, longitud y profundidad del culmen, longitud de la aleta, masa corporal y sexo).  \n",
    "2. **Menos columnas, menos ruido**: el uso de un número reducido de variables puede evitar introducir información irrelevante o redundante que termine afectando el rendimiento del modelo de clasificación.  \n",
    "3. **Enfoque en variables fisiológicas clave**: para predecir la especie de un pingüino, las medidas morfológicas y el sexo son muy relevantes. Muchas de las columnas adicionales en `df_lter` (como fechas, etapas de desarrollo, etc.) pueden no ser necesarias para el objetivo actual.  \n",
    "4. **Facilidad de tratamiento**: `df_size` es más directo para entrenar un modelo de clasificación con menor necesidad de limpieza o preprocesamiento.  \n",
    "\n",
    "Por estas razones, **`df_size`** se ajusta mejor a nuestro objetivo de predecir la especie de los pingüinos y será el principal dataframe que utilizaremos para esta tarea.  "
   ]
  },
  {
   "cell_type": "code",
   "execution_count": 6,
   "metadata": {},
   "outputs": [
    {
     "name": "stdout",
     "output_type": "stream",
     "text": [
      "Dimensiones del df después de dropna: (334, 7)\n"
     ]
    },
    {
     "data": {
      "text/html": [
       "<div>\n",
       "<style scoped>\n",
       "    .dataframe tbody tr th:only-of-type {\n",
       "        vertical-align: middle;\n",
       "    }\n",
       "\n",
       "    .dataframe tbody tr th {\n",
       "        vertical-align: top;\n",
       "    }\n",
       "\n",
       "    .dataframe thead th {\n",
       "        text-align: right;\n",
       "    }\n",
       "</style>\n",
       "<table border=\"1\" class=\"dataframe\">\n",
       "  <thead>\n",
       "    <tr style=\"text-align: right;\">\n",
       "      <th></th>\n",
       "      <th>species</th>\n",
       "      <th>island</th>\n",
       "      <th>culmen_length_mm</th>\n",
       "      <th>culmen_depth_mm</th>\n",
       "      <th>flipper_length_mm</th>\n",
       "      <th>body_mass_g</th>\n",
       "      <th>sex</th>\n",
       "    </tr>\n",
       "  </thead>\n",
       "  <tbody>\n",
       "    <tr>\n",
       "      <th>0</th>\n",
       "      <td>Adelie</td>\n",
       "      <td>Torgersen</td>\n",
       "      <td>39.1</td>\n",
       "      <td>18.7</td>\n",
       "      <td>181.0</td>\n",
       "      <td>3750.0</td>\n",
       "      <td>MALE</td>\n",
       "    </tr>\n",
       "    <tr>\n",
       "      <th>1</th>\n",
       "      <td>Adelie</td>\n",
       "      <td>Torgersen</td>\n",
       "      <td>39.5</td>\n",
       "      <td>17.4</td>\n",
       "      <td>186.0</td>\n",
       "      <td>3800.0</td>\n",
       "      <td>FEMALE</td>\n",
       "    </tr>\n",
       "    <tr>\n",
       "      <th>2</th>\n",
       "      <td>Adelie</td>\n",
       "      <td>Torgersen</td>\n",
       "      <td>40.3</td>\n",
       "      <td>18.0</td>\n",
       "      <td>195.0</td>\n",
       "      <td>3250.0</td>\n",
       "      <td>FEMALE</td>\n",
       "    </tr>\n",
       "    <tr>\n",
       "      <th>4</th>\n",
       "      <td>Adelie</td>\n",
       "      <td>Torgersen</td>\n",
       "      <td>36.7</td>\n",
       "      <td>19.3</td>\n",
       "      <td>193.0</td>\n",
       "      <td>3450.0</td>\n",
       "      <td>FEMALE</td>\n",
       "    </tr>\n",
       "    <tr>\n",
       "      <th>5</th>\n",
       "      <td>Adelie</td>\n",
       "      <td>Torgersen</td>\n",
       "      <td>39.3</td>\n",
       "      <td>20.6</td>\n",
       "      <td>190.0</td>\n",
       "      <td>3650.0</td>\n",
       "      <td>MALE</td>\n",
       "    </tr>\n",
       "  </tbody>\n",
       "</table>\n",
       "</div>"
      ],
      "text/plain": [
       "  species     island  culmen_length_mm  culmen_depth_mm  flipper_length_mm  \\\n",
       "0  Adelie  Torgersen              39.1             18.7              181.0   \n",
       "1  Adelie  Torgersen              39.5             17.4              186.0   \n",
       "2  Adelie  Torgersen              40.3             18.0              195.0   \n",
       "4  Adelie  Torgersen              36.7             19.3              193.0   \n",
       "5  Adelie  Torgersen              39.3             20.6              190.0   \n",
       "\n",
       "   body_mass_g     sex  \n",
       "0       3750.0    MALE  \n",
       "1       3800.0  FEMALE  \n",
       "2       3250.0  FEMALE  \n",
       "4       3450.0  FEMALE  \n",
       "5       3650.0    MALE  "
      ]
     },
     "execution_count": 6,
     "metadata": {},
     "output_type": "execute_result"
    }
   ],
   "source": [
    "df = df_size.copy()  # Copiamos df_size (Dataframe seleccionado)\n",
    "\n",
    "# Eliminamos filas donde existan nulos en las columnas relevantes\n",
    "df.dropna(subset=[\n",
    "    'culmen_length_mm',\n",
    "    'culmen_depth_mm',\n",
    "    'flipper_length_mm',\n",
    "    'body_mass_g',\n",
    "    'sex'\n",
    "], inplace=True)\n",
    "\n",
    "print(\"Dimensiones del df después de dropna:\", df.shape)\n",
    "df.head()"
   ]
  },
  {
   "cell_type": "markdown",
   "metadata": {},
   "source": [
    "#### 5. Análisis de variables categóricas\n",
    "Principalmente nos interesan 'island' (3 categorías: Biscoe, Dream, Torgersen) y 'sex' (MALE, FEMALE, y algunos nulos).\n",
    "\n",
    "Revisamos su distribución con value_counts().\n"
   ]
  },
  {
   "cell_type": "code",
   "execution_count": 7,
   "metadata": {},
   "outputs": [
    {
     "name": "stdout",
     "output_type": "stream",
     "text": [
      "Distribución 'island':\n",
      " island\n",
      "Biscoe       168\n",
      "Dream        124\n",
      "Torgersen     52\n",
      "Name: count, dtype: int64 \n",
      "\n",
      "Distribución 'sex':\n",
      " sex\n",
      "MALE      168\n",
      "FEMALE    165\n",
      "NaN        10\n",
      ".           1\n",
      "Name: count, dtype: int64 \n",
      "\n"
     ]
    }
   ],
   "source": [
    "print(\"Distribución 'island':\\n\", df_size['island'].value_counts(), \"\\n\")\n",
    "print(\"Distribución 'sex':\\n\", df_size['sex'].value_counts(dropna=False), \"\\n\")"
   ]
  },
  {
   "cell_type": "markdown",
   "metadata": {},
   "source": [
    "#### 6. Definición de X (características) ,  Y (objetivo)\n",
    "\n",
    "La variable objetivo será 'species' (Adelie, Gentoo, Chinstrap).\n",
    "Las características de interés:\n",
    "   - island (categórica)\n",
    "   - culmen_length_mm, culmen_depth_mm, flipper_length_mm, body_mass_g (numéricas)\n",
    "   - sex (categórica binaria, MALE/FEMALE)\n"
   ]
  },
  {
   "cell_type": "code",
   "execution_count": 8,
   "metadata": {},
   "outputs": [
    {
     "name": "stdout",
     "output_type": "stream",
     "text": [
      "X shape: (334, 6)\n",
      "y shape: (334,)\n"
     ]
    }
   ],
   "source": [
    "X = df[['island', 'culmen_length_mm', 'culmen_depth_mm',\n",
    "        'flipper_length_mm', 'body_mass_g', 'sex']]\n",
    "y = df['species']\n",
    "\n",
    "print(\"X shape:\", X.shape)\n",
    "print(\"y shape:\", y.shape)"
   ]
  },
  {
   "cell_type": "markdown",
   "metadata": {},
   "source": [
    "#### 7. División en entrenamiento y prueba\n",
    "\n",
    "Separamos en train y test con test_size=0.2 (80% / 20%). Usamos stratify=y para mantener la distribución de especies.\n"
   ]
  },
  {
   "cell_type": "code",
   "execution_count": 9,
   "metadata": {},
   "outputs": [
    {
     "name": "stdout",
     "output_type": "stream",
     "text": [
      "Tamaño de X_train: (267, 6) | X_test: (67, 6)\n"
     ]
    }
   ],
   "source": [
    "X_train, X_test, y_train, y_test = train_test_split(\n",
    "    X, y,\n",
    "    test_size=0.2,\n",
    "    random_state=42,\n",
    "    stratify=y\n",
    ")\n",
    "\n",
    "print(\"Tamaño de X_train:\", X_train.shape, \"| X_test:\", X_test.shape)"
   ]
  },
  {
   "cell_type": "markdown",
   "metadata": {},
   "source": [
    "#### 8. Creación de transformaciones (One-Hot, Scaling)\n",
    "\n",
    "- 'island' (3 categorías) -> One-Hot\n",
    "\n",
    "- 'sex' (2 categorías)    -> Si queremos, podemos usar One-Hot con drop='if_binary'\n",
    "                         o dejarlo en One-Hot \"normal\" (generará una o dos columnas).\n",
    "\n",
    " - Columnas numéricas: culmen_length_mm, culmen_depth_mm, flipper_length_mm, body_mass_g\n",
    " -> StandardScaler\n",
    "\n",
    " - Definimos un ColumnTransformer que haga todo esto de una sola vez.\n"
   ]
  },
  {
   "cell_type": "code",
   "execution_count": 10,
   "metadata": {},
   "outputs": [],
   "source": [
    "numeric_cols = ['culmen_length_mm', 'culmen_depth_mm', 'flipper_length_mm', 'body_mass_g']\n",
    "cat_cols_island = ['island']\n",
    "cat_cols_sex = ['sex']\n",
    "\n",
    "transformer = ColumnTransformer([\n",
    "    ('onehot_island', OneHotEncoder(drop='first'), cat_cols_island),\n",
    "    ('onehot_sex', OneHotEncoder(drop='if_binary'), cat_cols_sex),\n",
    "    ('scaler', StandardScaler(), numeric_cols)\n",
    "], remainder='drop')\n"
   ]
  },
  {
   "cell_type": "markdown",
   "metadata": {},
   "source": [
    "#### 9. Definir Pipelines para cada Modelo\n",
    "\n",
    "Creamos 3 pipelines, cada uno con la misma transformación, pero con un modelo distinto al final:\n",
    "-   1) RandomForestClassifier (RF)\n",
    "-   2) LogisticRegression (LR)\n",
    "-   3) SVC (SVM)\n",
    "\n",
    "Todos tendrán hiperparámetros por defecto (modelos \"base\").\n"
   ]
  },
  {
   "cell_type": "code",
   "execution_count": 11,
   "metadata": {},
   "outputs": [],
   "source": [
    "# 1. RandomForest\n",
    "pipeline_rf = Pipeline([\n",
    "    ('preprocessor', transformer),\n",
    "    ('classifier', RandomForestClassifier(random_state=42))\n",
    "])\n",
    "\n",
    "# 2. LogisticRegression\n",
    "pipeline_lr = Pipeline([\n",
    "    ('preprocessor', transformer),\n",
    "    ('classifier', LogisticRegression(random_state=42, max_iter=1000))\n",
    "])\n",
    "\n",
    "# 3. SVC (SVM)\n",
    "pipeline_svm = Pipeline([\n",
    "    ('preprocessor', transformer),\n",
    "    ('classifier', SVC(random_state=42))\n",
    "])"
   ]
  },
  {
   "cell_type": "markdown",
   "metadata": {},
   "source": [
    "#### 10. Entrenamiento y Evaluación de cada Modelo\n",
    "\n",
    "Entrenamos cada pipeline con X_train, y_train, luego predecimos en X_test y calculamos accuracy y classification_report.\n"
   ]
  },
  {
   "cell_type": "code",
   "execution_count": 12,
   "metadata": {},
   "outputs": [
    {
     "name": "stdout",
     "output_type": "stream",
     "text": [
      "== Random Forest ==\n",
      "Accuracy: 1.0\n",
      "              precision    recall  f1-score   support\n",
      "\n",
      "      Adelie       1.00      1.00      1.00        29\n",
      "   Chinstrap       1.00      1.00      1.00        14\n",
      "      Gentoo       1.00      1.00      1.00        24\n",
      "\n",
      "    accuracy                           1.00        67\n",
      "   macro avg       1.00      1.00      1.00        67\n",
      "weighted avg       1.00      1.00      1.00        67\n",
      "\n",
      "\n",
      "== Logistic Regression ==\n",
      "Accuracy: 0.9850746268656716\n",
      "              precision    recall  f1-score   support\n",
      "\n",
      "      Adelie       1.00      0.97      0.98        29\n",
      "   Chinstrap       0.93      1.00      0.97        14\n",
      "      Gentoo       1.00      1.00      1.00        24\n",
      "\n",
      "    accuracy                           0.99        67\n",
      "   macro avg       0.98      0.99      0.98        67\n",
      "weighted avg       0.99      0.99      0.99        67\n",
      "\n",
      "\n",
      "== SVM (SVC) ==\n",
      "Accuracy: 1.0\n",
      "              precision    recall  f1-score   support\n",
      "\n",
      "      Adelie       1.00      1.00      1.00        29\n",
      "   Chinstrap       1.00      1.00      1.00        14\n",
      "      Gentoo       1.00      1.00      1.00        24\n",
      "\n",
      "    accuracy                           1.00        67\n",
      "   macro avg       1.00      1.00      1.00        67\n",
      "weighted avg       1.00      1.00      1.00        67\n",
      "\n"
     ]
    }
   ],
   "source": [
    "# ------ RandomForest --------\n",
    "pipeline_rf.fit(X_train, y_train)\n",
    "y_pred_rf = pipeline_rf.predict(X_test)\n",
    "acc_rf = accuracy_score(y_test, y_pred_rf)\n",
    "print(\"== Random Forest ==\")\n",
    "print(\"Accuracy:\", acc_rf)\n",
    "print(classification_report(y_test, y_pred_rf))\n",
    "\n",
    "# ------ Logistic Regression --------\n",
    "pipeline_lr.fit(X_train, y_train)\n",
    "y_pred_lr = pipeline_lr.predict(X_test)\n",
    "acc_lr = accuracy_score(y_test, y_pred_lr)\n",
    "print(\"\\n== Logistic Regression ==\")\n",
    "print(\"Accuracy:\", acc_lr)\n",
    "print(classification_report(y_test, y_pred_lr))\n",
    "\n",
    "# ------ SVM (SVC) --------\n",
    "pipeline_svm.fit(X_train, y_train)\n",
    "y_pred_svm = pipeline_svm.predict(X_test)\n",
    "acc_svm = accuracy_score(y_test, y_pred_svm)\n",
    "print(\"\\n== SVM (SVC) ==\")\n",
    "print(\"Accuracy:\", acc_svm)\n",
    "print(classification_report(y_test, y_pred_svm))\n"
   ]
  },
  {
   "cell_type": "markdown",
   "metadata": {},
   "source": [
    "#### 11. Comparar Modelos y Seleccionar el Mejor\n",
    "\n",
    "Revisamos los accuracies y decidimos cuál modelo se desempeña mejor. Podríamos fijarnos en otras métricas, pero la más simple es la exactitud (accuracy).\n"
   ]
  },
  {
   "cell_type": "code",
   "execution_count": 13,
   "metadata": {},
   "outputs": [
    {
     "name": "stdout",
     "output_type": "stream",
     "text": [
      "Accuracy RF:  1.0\n",
      "Accuracy LR:  0.9850746268656716\n",
      "Accuracy SVM: 1.0\n",
      "\n",
      "El mejor modelo es RandomForest con accuracy de 1.0000\n"
     ]
    }
   ],
   "source": [
    "print(\"Accuracy RF: \", acc_rf)\n",
    "print(\"Accuracy LR: \", acc_lr)\n",
    "print(\"Accuracy SVM:\", acc_svm)\n",
    "\n",
    "models_accuracies = {\n",
    "    \"RandomForest\": acc_rf,\n",
    "    \"LogisticRegression\": acc_lr,\n",
    "    \"SVM\": acc_svm\n",
    "}\n",
    "\n",
    "best_model_name = max(models_accuracies, key=models_accuracies.get)\n",
    "best_accuracy = models_accuracies[best_model_name]\n",
    "\n",
    "print(f\"\\nEl mejor modelo es {best_model_name} con accuracy de {best_accuracy:.4f}\")"
   ]
  },
  {
   "cell_type": "markdown",
   "metadata": {},
   "source": [
    "#### 12. Guardar los Modelos (Bonus: guardar todos para la API)\n",
    "\n",
    "Dado el enunciado, podríamos tener múltiples modelos con buenos resultados.\n",
    "Para el \"bono\" del taller (metodo en la API que permita elegir el modelo), guardamos cada pipeline en un archivo .pkl separado.\n",
    "\n",
    "Así, la API puede cargar cada uno de ellos y decidir cuál usar en inferencia según la petición del usuario.\n"
   ]
  },
  {
   "cell_type": "code",
   "execution_count": 14,
   "metadata": {},
   "outputs": [
    {
     "name": "stdout",
     "output_type": "stream",
     "text": [
      "Modelos guardados exitosamente en la carpeta 'models'\n"
     ]
    }
   ],
   "source": [
    "# Guardar los modelos en la carpeta 'models'\n",
    "#joblib.dump(pipeline_rf, \"models/model_rf.pkl\")\n",
    "#joblib.dump(pipeline_lr, \"models/model_lr.pkl\")\n",
    "#joblib.dump(pipeline_svm, \"models/model_svm.pkl\")\n",
    "\n",
    "#print(\"Modelos guardados exitosamente en la carpeta 'models'\")"
   ]
  },
  {
   "cell_type": "code",
   "execution_count": null,
   "metadata": {},
   "outputs": [],
   "source": [
    "# Guardar los modelos en la carpeta 'models'\n",
    "joblib.dump(pipeline_rf, \\\"models/model_rf.pkl\\\")\n",
    "joblib.dump(pipeline_lr, \\\"models/model_lr.pkl\\\")\n",
    "joblib.dump(pipeline_svm, \\\"models/model_svm.pkl\\\")\n",
    "\n",
    "print(\\\"\\\\nModelos guardados exitosamente en la carpeta 'models'\\\")"
   ]
  },
  {
   "cell_type": "markdown",
   "metadata": {},
   "source": [
    "#### 13. Conclusiones\n",
    "\n",
    "- Se importaron y limpiaron los datos, descartando filas con valores nulos.\n",
    "- Se preparó la columna 'island' con One-Hot (3 categorías), y 'sex' con One-Hot de 2 categorías (drop='if_binary').\n",
    "- Se estandarizaron las variables numéricas con StandardScaler.\n",
    "- Se entrenaron 3 modelos base: RandomForest, LogisticRegression y SVM.\n",
    "- Se compararon los resultados en el set de prueba.\n",
    "- Se determinó el mejor modelo según accuracy, aunque también se tienen los classification reports para un análisis más profundo.\n",
    "- Finalmente, se guardan los 3 pipelines en archivos .pkl, de modo que la futura API pueda cargarlos y permitir la selección de uno de ellos para la inferencia."
   ]
  }
 ],
 "metadata": {
  "kernelspec": {
   "display_name": "Python 3 (ipykernel)",
   "language": "python",
   "name": "python3"
  },
  "language_info": {
   "codemirror_mode": {
    "name": "ipython",
    "version": 3
   },
   "file_extension": ".py",
   "mimetype": "text/x-python",
   "name": "python",
   "nbconvert_exporter": "python",
   "pygments_lexer": "ipython3",
   "version": "3.10.0"
  }
 },
 "nbformat": 4,
 "nbformat_minor": 4
}
